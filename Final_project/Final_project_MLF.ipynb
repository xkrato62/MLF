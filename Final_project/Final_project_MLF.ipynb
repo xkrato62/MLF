{
  "cells": [
    {
      "cell_type": "markdown",
      "metadata": {
        "id": "JCmPBMycJ3eN"
      },
      "source": [
        "# MPA-MLF - Final project\n",
        "\n",
        "Classification of room occupancy\n",
        "\n",
        "Marek Černý, Dušan Kratochvíl"
      ]
    },
    {
      "cell_type": "markdown",
      "source": [
        "## 0. Import libraries"
      ],
      "metadata": {
        "id": "bOZ70VUuLTdJ"
      }
    },
    {
      "cell_type": "code",
      "source": [
        "from tensorflow import keras\n",
        "from keras.models import Sequential\n",
        "import numpy as np\n",
        "import pandas as pd\n",
        "import matplotlib\n",
        "import matplotlib.pyplot as plt\n",
        "from sklearn.model_selection import train_test_split\n",
        "from keras.layers import Dense, Flatten, Dropout, Conv2D, MaxPooling2D\n",
        "from keras.optimizers import SGD, Adagrad, Adam, AdamW\n",
        "from keras.utils import to_categorical\n",
        "import cv2\n",
        "import os"
      ],
      "metadata": {
        "id": "F_bltItkdPut"
      },
      "execution_count": null,
      "outputs": []
    },
    {
      "cell_type": "markdown",
      "metadata": {
        "id": "W64tGwFUJ4Ng"
      },
      "source": [
        "## 1. Mount google drive"
      ]
    },
    {
      "cell_type": "code",
      "execution_count": null,
      "metadata": {
        "colab": {
          "base_uri": "https://localhost:8080/"
        },
        "id": "ji8XMDepNHE4",
        "outputId": "9639393d-8f2f-4b0a-a80e-3131f5bc1cac"
      },
      "outputs": [
        {
          "output_type": "stream",
          "name": "stdout",
          "text": [
            "Mounted at /content/drive\n"
          ]
        }
      ],
      "source": [
        "from google.colab import drive\n",
        "drive.mount('/content/drive')"
      ]
    },
    {
      "cell_type": "markdown",
      "metadata": {
        "id": "FNT-ReQgJ5BQ"
      },
      "source": [
        "## 2. Functions"
      ]
    },
    {
      "cell_type": "markdown",
      "source": [
        "Loading images from drive and adding them to array"
      ],
      "metadata": {
        "id": "tTmQ64bwLb5Y"
      }
    },
    {
      "cell_type": "code",
      "execution_count": null,
      "metadata": {
        "id": "dA0KVjpeppmI"
      },
      "outputs": [],
      "source": [
        "def load_images_from_folder(folder, n_img: int):\n",
        "    images = []\n",
        "    for i in range(n_img+1):\n",
        "        img_path = os.path.join(folder, f\"img_{i}.png\")\n",
        "        if os.path.isfile(img_path):\n",
        "            img = cv2.imread(img_path)\n",
        "            if img is not None:\n",
        "                images.append(img)\n",
        "    return images"
      ]
    },
    {
      "cell_type": "markdown",
      "source": [
        "Display random images from array"
      ],
      "metadata": {
        "id": "ccmZYmd8Lci2"
      }
    },
    {
      "cell_type": "code",
      "execution_count": null,
      "metadata": {
        "id": "-gz5JEC4lVU-"
      },
      "outputs": [],
      "source": [
        "def display_random_images(x_data: np.array, y_data: np.array, count: int = 10) -> None:\n",
        "  index = np.array(len(x_data))\n",
        "  selected_ind = np.random.choice(index, count)\n",
        "\n",
        "  selected_img = x_data[selected_ind]\n",
        "  selected_labels = y_data[selected_ind]\n",
        "  concat_img = np.concatenate(selected_img, axis=1)\n",
        "\n",
        "  plt.figure(figsize=(20,10))\n",
        "  plt.imshow(concat_img, cmap=\"gray\")\n",
        "\n",
        "  for id_label, label in enumerate(selected_labels):\n",
        "    plt.text(20 + 51*id_label, 55, label)\n",
        "  plt.axis('off')\n",
        "  plt.show()"
      ]
    },
    {
      "cell_type": "markdown",
      "source": [
        "Separate RGB chanels from images"
      ],
      "metadata": {
        "id": "abkakRMDLdGR"
      }
    },
    {
      "cell_type": "code",
      "execution_count": null,
      "metadata": {
        "id": "B20wCKzMXZ4l"
      },
      "outputs": [],
      "source": [
        "def separate_rgb_from_images(images_array):\n",
        "    # Separate RGB colors from array of images\n",
        "    red_channel = images_array[:, :, :, 0]  # Extract Red channel\n",
        "    green_channel = images_array[:, :, :, 1]  # Extract Green channel\n",
        "    blue_channel = images_array[:, :, :, 2]  # Extract Blue channel\n",
        "\n",
        "    return red_channel, green_channel, blue_channel"
      ]
    },
    {
      "cell_type": "markdown",
      "metadata": {
        "id": "_mcIiVLaJ564"
      },
      "source": [
        "## 3. Create train data"
      ]
    },
    {
      "cell_type": "code",
      "execution_count": null,
      "metadata": {
        "id": "QRrLIJRPXEMP"
      },
      "outputs": [],
      "source": [
        "num_images = 16182\n",
        "X_train =load_images_from_folder(\"/content/drive/MyDrive/Final Project/train_data_unlabeled\",num_images)\n",
        "\n",
        "num_images = 4796\n",
        "X_test =load_images_from_folder(\"/content/drive/MyDrive/Final Project/test_data_unlabeled\",num_images)"
      ]
    },
    {
      "cell_type": "markdown",
      "metadata": {
        "id": "I1X8TflnJ8Rn"
      },
      "source": [
        "Saving data for time save"
      ]
    },
    {
      "cell_type": "code",
      "execution_count": null,
      "metadata": {
        "id": "EMJn7QHWfkDy"
      },
      "outputs": [],
      "source": [
        "np.save('/content/drive/MyDrive/Final Project/X_test_data_resized.npy', X_test)\n",
        "np.save('/content/drive/MyDrive/Final Project/X_train_data_resized.npy', X_train)"
      ]
    },
    {
      "cell_type": "markdown",
      "metadata": {
        "id": "1-WVgHoQJ84O"
      },
      "source": [
        "## 4. Load created train data"
      ]
    },
    {
      "cell_type": "code",
      "execution_count": null,
      "metadata": {
        "id": "ogzoBJoxiyK7"
      },
      "outputs": [],
      "source": [
        "X_train = np.load('/content/drive/MyDrive/Final Project/X_train_data.npy')\n",
        "X_test = np.load('/content/drive/MyDrive/Final Project/X_test_data.npy')\n",
        "y_train = pd.read_csv('/content/drive/MyDrive/Final Project/y_train.csv')\n",
        "y_train = y_train['target']"
      ]
    },
    {
      "cell_type": "markdown",
      "source": [
        "## 5. Display train data"
      ],
      "metadata": {
        "id": "oiTfnDpcNGHW"
      }
    },
    {
      "cell_type": "code",
      "execution_count": null,
      "metadata": {
        "colab": {
          "base_uri": "https://localhost:8080/",
          "height": 208
        },
        "id": "ZPzifZ3PlcRF",
        "outputId": "5817a3d5-89fd-4254-c80c-29795db2c6f2"
      },
      "outputs": [
        {
          "output_type": "display_data",
          "data": {
            "text/plain": [
              "<Figure size 2000x1000 with 1 Axes>"
            ],
            "image/png": "[encoded data removed]"
          },
          "metadata": {}
        }
      ],
      "source": [
        "display_random_images(X_train, y_train)"
      ]
    },
    {
      "cell_type": "code",
      "execution_count": null,
      "metadata": {
        "id": "xdSXGqPeZw35"
      },
      "outputs": [],
      "source": [
        "red_channel, green_channel, blue_channel = separate_rgb_from_images(X_train)"
      ]
    },
    {
      "cell_type": "code",
      "execution_count": null,
      "metadata": {
        "colab": {
          "base_uri": "https://localhost:8080/",
          "height": 231
        },
        "id": "0ge32mFfcPnG",
        "outputId": "ba48a5f3-f16a-40ff-eec3-3eeb4bc3b64f"
      },
      "outputs": [
        {
          "output_type": "display_data",
          "data": {
            "text/plain": [
              "<Figure size 640x480 with 0 Axes>"
            ]
          },
          "metadata": {}
        },
        {
          "output_type": "display_data",
          "data": {
            "text/plain": [
              "<Figure size 1000x500 with 4 Axes>"
            ],
            "image/png": "[encoded data removed]"
          },
          "metadata": {}
        }
      ],
      "source": [
        "plt.figure()\n",
        "fig, axs = plt.subplots(nrows=1, ncols=4, figsize=(10, 5))\n",
        "axs[0].imshow(red_channel[0])\n",
        "axs[1].imshow(green_channel[0])\n",
        "axs[2].imshow(blue_channel[0])\n",
        "axs[3].imshow(X_train[0])\n",
        "plt.show()"
      ]
    },
    {
      "cell_type": "markdown",
      "source": [
        "## 6. Preprocessing train data"
      ],
      "metadata": {
        "id": "M5UsCOnoxeSl"
      }
    },
    {
      "cell_type": "code",
      "source": [
        "X_train_split, X_test_split, y_train_split, y_test_split = train_test_split(X_train, y_train, test_size=0.2, random_state=42)"
      ],
      "metadata": {
        "id": "TpAV3aIvxeCP"
      },
      "execution_count": null,
      "outputs": []
    },
    {
      "cell_type": "code",
      "execution_count": null,
      "metadata": {
        "id": "f_s5HqHzNbql"
      },
      "outputs": [],
      "source": [
        "X_train_exp = np.expand_dims(X_train_split, -1)\n",
        "#X_train_exp = np.expand_dims(X_train, -1)\n",
        "#X_train_exp = np.expand_dims(green_channel, -1)\n",
        "X_train_scaled = X_train_exp.astype('float32') / 255.0\n",
        "y_train_encoded = to_categorical(y_train_split, num_classes=4)\n",
        "#y_train_encoded = to_categorical(y_train, num_classes=4)"
      ]
    },
    {
      "cell_type": "markdown",
      "metadata": {
        "id": "91bwe_GHJ_tu"
      },
      "source": [
        "## 7. Create model"
      ]
    },
    {
      "cell_type": "code",
      "execution_count": null,
      "metadata": {
        "id": "nwIL0FMiNboY"
      },
      "outputs": [],
      "source": [
        "model = Sequential()\n",
        "model.add(Conv2D(128, (3, 3), activation='gelu', input_shape=(45, 51, 3)))\n",
        "model.add(MaxPooling2D((2, 2)))\n",
        "model.add(Conv2D(256, (3, 3), activation='gelu'))\n",
        "model.add(MaxPooling2D((2, 2)))\n",
        "model.add(Flatten())\n",
        "model.add(Dense(256, activation='gelu'))\n",
        "model.add(Dropout(0.1))\n",
        "model.add(Dense(4, activation='softmax'))"
      ]
    },
    {
      "cell_type": "code",
      "execution_count": null,
      "metadata": {
        "colab": {
          "base_uri": "https://localhost:8080/"
        },
        "id": "m8numI2lNbj0",
        "outputId": "f8ea54fd-57aa-42dd-fd99-603911194b94"
      },
      "outputs": [
        {
          "output_type": "stream",
          "name": "stdout",
          "text": [
            "Model: \"sequential\"\n",
            "_________________________________________________________________\n",
            " Layer (type)                Output Shape              Param #   \n",
            "=================================================================\n",
            " conv2d (Conv2D)             (None, 43, 49, 128)       3584      \n",
            "                                                                 \n",
            " max_pooling2d (MaxPooling2  (None, 21, 24, 128)       0         \n",
            " D)                                                              \n",
            "                                                                 \n",
            " conv2d_1 (Conv2D)           (None, 19, 22, 256)       295168    \n",
            "                                                                 \n",
            " max_pooling2d_1 (MaxPoolin  (None, 9, 11, 256)        0         \n",
            " g2D)                                                            \n",
            "                                                                 \n",
            " flatten (Flatten)           (None, 25344)             0         \n",
            "                                                                 \n",
            " dense (Dense)               (None, 256)               6488320   \n",
            "                                                                 \n",
            " dropout (Dropout)           (None, 256)               0         \n",
            "                                                                 \n",
            " dense_1 (Dense)             (None, 4)                 1028      \n",
            "                                                                 \n",
            "=================================================================\n",
            "Total params: 6788100 (25.89 MB)\n",
            "Trainable params: 6788100 (25.89 MB)\n",
            "Non-trainable params: 0 (0.00 Byte)\n",
            "_________________________________________________________________\n"
          ]
        }
      ],
      "source": [
        "loss = 'categorical_crossentropy' # 1 - 'categorical_crossentropy' = 'categorical_focal_crossentropy' = 'poisson'\n",
        "metrics = 'accuracy' # 1 - 'accuracy' = 'categorical_accuracy'\n",
        "learning_rate = 0.001 #1 - 0.001; 2 - 0.01; 3 - 0.0001; 4 - 0.1\n",
        "optimizer = AdamW(learning_rate = learning_rate) #1 - Adam; 2 - AdamW; 3 - Adagrad; 4 - SGD\n",
        "model.compile(loss=loss, optimizer=optimizer, metrics=[metrics])\n",
        "model.summary()"
      ]
    },
    {
      "cell_type": "markdown",
      "metadata": {
        "id": "sp6TssOeKA_7"
      },
      "source": []
    },
    {
      "cell_type": "code",
      "execution_count": null,
      "metadata": {
        "id": "g2W360l382QM",
        "colab": {
          "base_uri": "https://localhost:8080/"
        },
        "outputId": "e2e7f2f7-339e-411a-d42c-851f72ff4ef5"
      },
      "outputs": [
        {
          "output_type": "stream",
          "name": "stdout",
          "text": [
            "Epoch 1/20\n",
            "324/324 [==============================] - 14s 24ms/step - loss: 0.6758 - accuracy: 0.7090 - val_loss: 0.4040 - val_accuracy: 0.8358\n",
            "Epoch 2/20\n",
            "324/324 [==============================] - 6s 20ms/step - loss: 0.3060 - accuracy: 0.8794 - val_loss: 0.2358 - val_accuracy: 0.9023\n",
            "Epoch 3/20\n",
            "324/324 [==============================] - 6s 20ms/step - loss: 0.2114 - accuracy: 0.9178 - val_loss: 0.1909 - val_accuracy: 0.9235\n",
            "Epoch 4/20\n",
            "324/324 [==============================] - 7s 22ms/step - loss: 0.1530 - accuracy: 0.9427 - val_loss: 0.1902 - val_accuracy: 0.9193\n",
            "Epoch 5/20\n",
            "324/324 [==============================] - 6s 19ms/step - loss: 0.1178 - accuracy: 0.9547 - val_loss: 0.1602 - val_accuracy: 0.9386\n",
            "Epoch 6/20\n",
            "324/324 [==============================] - 6s 20ms/step - loss: 0.0858 - accuracy: 0.9695 - val_loss: 0.1330 - val_accuracy: 0.9552\n",
            "Epoch 7/20\n",
            "324/324 [==============================] - 6s 20ms/step - loss: 0.0643 - accuracy: 0.9761 - val_loss: 0.1097 - val_accuracy: 0.9621\n",
            "Epoch 8/20\n",
            "324/324 [==============================] - 7s 20ms/step - loss: 0.0525 - accuracy: 0.9811 - val_loss: 0.1766 - val_accuracy: 0.9521\n",
            "Epoch 9/20\n",
            "324/324 [==============================] - 6s 20ms/step - loss: 0.1229 - accuracy: 0.9639 - val_loss: 0.2792 - val_accuracy: 0.9166\n",
            "Epoch 10/20\n",
            "324/324 [==============================] - 7s 20ms/step - loss: 0.0631 - accuracy: 0.9783 - val_loss: 0.0924 - val_accuracy: 0.9699\n",
            "Epoch 11/20\n",
            "324/324 [==============================] - 6s 20ms/step - loss: 0.0217 - accuracy: 0.9934 - val_loss: 0.1012 - val_accuracy: 0.9676\n",
            "Epoch 12/20\n",
            "324/324 [==============================] - 9s 26ms/step - loss: 0.0198 - accuracy: 0.9939 - val_loss: 0.0790 - val_accuracy: 0.9749\n",
            "Epoch 13/20\n",
            "324/324 [==============================] - 6s 20ms/step - loss: 0.0106 - accuracy: 0.9971 - val_loss: 0.1415 - val_accuracy: 0.9637\n",
            "Epoch 14/20\n",
            "324/324 [==============================] - 7s 20ms/step - loss: 0.0347 - accuracy: 0.9879 - val_loss: 0.2997 - val_accuracy: 0.9328\n",
            "Epoch 15/20\n",
            "324/324 [==============================] - 6s 19ms/step - loss: 0.0350 - accuracy: 0.9895 - val_loss: 0.1282 - val_accuracy: 0.9649\n",
            "Epoch 16/20\n",
            "324/324 [==============================] - 6s 20ms/step - loss: 0.0274 - accuracy: 0.9926 - val_loss: 0.1188 - val_accuracy: 0.9679\n",
            "Epoch 17/20\n",
            "324/324 [==============================] - 6s 19ms/step - loss: 0.1183 - accuracy: 0.9693 - val_loss: 0.1879 - val_accuracy: 0.9509\n",
            "Epoch 18/20\n",
            "324/324 [==============================] - 7s 20ms/step - loss: 0.0272 - accuracy: 0.9914 - val_loss: 0.1272 - val_accuracy: 0.9668\n",
            "Epoch 19/20\n",
            "324/324 [==============================] - 6s 19ms/step - loss: 0.0061 - accuracy: 0.9981 - val_loss: 0.1039 - val_accuracy: 0.9718\n",
            "Epoch 20/20\n",
            "324/324 [==============================] - 7s 20ms/step - loss: 0.0026 - accuracy: 0.9994 - val_loss: 0.1122 - val_accuracy: 0.9699\n"
          ]
        }
      ],
      "source": [
        "history = model.fit(X_train_scaled, y_train_encoded, epochs=20, batch_size=32, validation_split = 0.2)"
      ]
    },
    {
      "cell_type": "markdown",
      "source": [
        "## 8. Evaluate accuracy"
      ],
      "metadata": {
        "id": "LAMKO0FdOD_c"
      }
    },
    {
      "cell_type": "code",
      "source": [
        "X_test_exp = np.expand_dims(X_test_split, -1)\n",
        "X_test_preprocessed = X_test_exp.astype('float32') / 255.0\n",
        "y_test_encoded = to_categorical(y_test_split, num_classes=4)"
      ],
      "metadata": {
        "id": "CTDlvCYSxwsc"
      },
      "execution_count": null,
      "outputs": []
    },
    {
      "cell_type": "code",
      "source": [
        "score = model.evaluate(X_test_preprocessed, y_test_encoded, verbose=0)\n",
        "print('Test loss:', score[0])\n",
        "print(f'Test accuracy: {score[1]*100} %')"
      ],
      "metadata": {
        "colab": {
          "base_uri": "https://localhost:8080/"
        },
        "id": "Tndfr_01xwhe",
        "outputId": "57d3f3b7-651e-41c1-a959-f3ac7cf21568"
      },
      "execution_count": null,
      "outputs": [
        {
          "output_type": "stream",
          "name": "stdout",
          "text": [
            "Test loss: 0.11419542133808136\n",
            "Test accuracy: 97.03429341316223 %\n"
          ]
        }
      ]
    },
    {
      "cell_type": "markdown",
      "metadata": {
        "id": "z2wMHn6vKBjA"
      },
      "source": [
        "## 9. Create y_test"
      ]
    },
    {
      "cell_type": "code",
      "execution_count": null,
      "metadata": {
        "colab": {
          "base_uri": "https://localhost:8080/"
        },
        "id": "ZAaBaIkcY4R1",
        "outputId": "cc0ef938-a1f8-44f6-8829-f919f62b224d"
      },
      "outputs": [
        {
          "output_type": "stream",
          "name": "stdout",
          "text": [
            "150/150 [==============================] - 1s 6ms/step\n"
          ]
        }
      ],
      "source": [
        "y_test_pred = model.predict(X_test)\n",
        "y_test_labels = np.argmax(y_test_pred, axis=1)\n",
        "y_test = pd.DataFrame({'id': range(len(y_test_labels)), 'target': y_test_labels})\n",
        "y_test.to_csv('/content/drive/MyDrive/Final Project/y_test.csv', index=False)"
      ]
    }
  ],
  "metadata": {
    "colab": {
      "provenance": [],
      "gpuType": "T4"
    },
    "kernelspec": {
      "display_name": "Python 3",
      "name": "python3"
    },
    "language_info": {
      "name": "python"
    },
    "accelerator": "GPU"
  },
  "nbformat": 4,
  "nbformat_minor": 0
}